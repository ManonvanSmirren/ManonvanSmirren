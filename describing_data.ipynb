{
  "nbformat": 4,
  "nbformat_minor": 0,
  "metadata": {
    "kernelspec": {
      "display_name": "Python 3",
      "language": "python",
      "name": "python3"
    },
    "language_info": {
      "codemirror_mode": {
        "name": "ipython",
        "version": 3
      },
      "file_extension": ".py",
      "mimetype": "text/x-python",
      "name": "python",
      "nbconvert_exporter": "python",
      "pygments_lexer": "ipython3",
      "version": "3.9.2"
    },
    "colab": {
      "name": "describing-data.ipynb",
      "provenance": [],
      "collapsed_sections": [],
      "toc_visible": true,
      "include_colab_link": true
    }
  },
  "cells": [
    {
      "cell_type": "markdown",
      "metadata": {
        "id": "view-in-github",
        "colab_type": "text"
      },
      "source": [
        "<a href=\"https://colab.research.google.com/github/ManonvanSmirren/ManonvanSmirren/blob/main-Manon-Winc/describing_data.ipynb\" target=\"_parent\"><img src=\"https://colab.research.google.com/assets/colab-badge.svg\" alt=\"Open In Colab\"/></a>"
      ]
    },
    {
      "cell_type": "markdown",
      "metadata": {
        "id": "Czeypj2ceDlY"
      },
      "source": [
        "<img src=\"https://static.wincacademy.nl/logos/main-logo.png\" height=200px style=\"height: 200px\"/>\n",
        "\n",
        "# Describing Data"
      ]
    },
    {
      "cell_type": "code",
      "metadata": {
        "id": "3KvkdhpoeDle"
      },
      "source": [
        "!pip install matplotlib --user > /dev/null 2>&1\n",
        "!pip install numpy --user > /dev/null 2>&1\n",
        "!pip install pandas --user > /dev/null 2>&1\n",
        "\n",
        "%matplotlib inline\n",
        "import numpy as np\n",
        "import matplotlib.pyplot as plt\n",
        "import pandas as pd"
      ],
      "execution_count": 15,
      "outputs": []
    },
    {
      "cell_type": "markdown",
      "metadata": {
        "id": "GywXgGVaeDlf"
      },
      "source": [
        "Describing a dataset is surprisingly hard. Take this (simulated) data containing total income in 1980 for each of the 100.000 inhabitans of Fooville, for example."
      ]
    },
    {
      "cell_type": "code",
      "metadata": {
        "colab": {
          "base_uri": "https://localhost:8080/",
          "height": 416
        },
        "id": "MFbdbV9geDlf",
        "outputId": "1c5abd11-7969-4135-dcd4-cd84ed6dff15"
      },
      "source": [
        "income_samples = np.round(np.hstack([np.random.normal(2.5e4, 5e3, int(7e4)),\n",
        "                                     np.random.normal(5.5e4, 4e3, int(2e4)),\n",
        "                                     np.random.normal(9e4, 2e3, int(1e4))]),\n",
        "                          2)\n",
        "income_samples[income_samples < 0] = - income_samples[income_samples < 0]\n",
        "np.random.shuffle(income_samples)\n",
        "\n",
        "pd.DataFrame(income_samples, columns=['Income'])"
      ],
      "execution_count": 16,
      "outputs": [
        {
          "output_type": "execute_result",
          "data": {
            "text/html": [
              "<div>\n",
              "<style scoped>\n",
              "    .dataframe tbody tr th:only-of-type {\n",
              "        vertical-align: middle;\n",
              "    }\n",
              "\n",
              "    .dataframe tbody tr th {\n",
              "        vertical-align: top;\n",
              "    }\n",
              "\n",
              "    .dataframe thead th {\n",
              "        text-align: right;\n",
              "    }\n",
              "</style>\n",
              "<table border=\"1\" class=\"dataframe\">\n",
              "  <thead>\n",
              "    <tr style=\"text-align: right;\">\n",
              "      <th></th>\n",
              "      <th>Income</th>\n",
              "    </tr>\n",
              "  </thead>\n",
              "  <tbody>\n",
              "    <tr>\n",
              "      <th>0</th>\n",
              "      <td>26738.07</td>\n",
              "    </tr>\n",
              "    <tr>\n",
              "      <th>1</th>\n",
              "      <td>57793.80</td>\n",
              "    </tr>\n",
              "    <tr>\n",
              "      <th>2</th>\n",
              "      <td>57248.85</td>\n",
              "    </tr>\n",
              "    <tr>\n",
              "      <th>3</th>\n",
              "      <td>24778.77</td>\n",
              "    </tr>\n",
              "    <tr>\n",
              "      <th>4</th>\n",
              "      <td>20283.78</td>\n",
              "    </tr>\n",
              "    <tr>\n",
              "      <th>...</th>\n",
              "      <td>...</td>\n",
              "    </tr>\n",
              "    <tr>\n",
              "      <th>99995</th>\n",
              "      <td>30924.47</td>\n",
              "    </tr>\n",
              "    <tr>\n",
              "      <th>99996</th>\n",
              "      <td>22884.03</td>\n",
              "    </tr>\n",
              "    <tr>\n",
              "      <th>99997</th>\n",
              "      <td>23970.93</td>\n",
              "    </tr>\n",
              "    <tr>\n",
              "      <th>99998</th>\n",
              "      <td>28755.99</td>\n",
              "    </tr>\n",
              "    <tr>\n",
              "      <th>99999</th>\n",
              "      <td>53649.71</td>\n",
              "    </tr>\n",
              "  </tbody>\n",
              "</table>\n",
              "<p>100000 rows × 1 columns</p>\n",
              "</div>"
            ],
            "text/plain": [
              "         Income\n",
              "0      26738.07\n",
              "1      57793.80\n",
              "2      57248.85\n",
              "3      24778.77\n",
              "4      20283.78\n",
              "...         ...\n",
              "99995  30924.47\n",
              "99996  22884.03\n",
              "99997  23970.93\n",
              "99998  28755.99\n",
              "99999  53649.71\n",
              "\n",
              "[100000 rows x 1 columns]"
            ]
          },
          "metadata": {
            "tags": []
          },
          "execution_count": 16
        }
      ]
    },
    {
      "cell_type": "markdown",
      "metadata": {
        "id": "e4RkbS9UeDlh"
      },
      "source": [
        "These are 100k datapoints. It's impossible to look at them all one by one. How are we going to interpret that large bag of unsorted data?\n",
        "\n",
        "## Mean\n",
        "\n",
        "One measure we should take a look at is the average, the **mean** of the data. The mean is calculated like so:\n",
        "\n",
        "1. Sum up all the values\n",
        "2. Divide them by the number of datapoints\n",
        "\n",
        "Let's apply this to our data from the inhabitants of Fooville."
      ]
    },
    {
      "cell_type": "code",
      "metadata": {
        "colab": {
          "base_uri": "https://localhost:8080/"
        },
        "id": "KKNLk7XteDlh",
        "outputId": "b6f8e399-4cce-4b63-9e0f-efc393710087"
      },
      "source": [
        "income_samples_mean = np.mean(income_samples)\n",
        "print(f'The mean income in Fooville is {income_samples_mean:.2f}')"
      ],
      "execution_count": 17,
      "outputs": [
        {
          "output_type": "stream",
          "text": [
            "The mean income in Fooville is 37499.21\n"
          ],
          "name": "stdout"
        }
      ]
    },
    {
      "cell_type": "markdown",
      "metadata": {
        "id": "w8euxz3meDlh"
      },
      "source": [
        "**1. What is the mean of this list of numbers? [1, 9, 19, 100]**\n",
        "Helaas kan ik alleen record 1 zien (niet 9,19 en 100), ik zal nog kijken of het me gaat lukken, maar van record 1 kan ik zien dat hij ruim boven gemiddeld is."
      ]
    },
    {
      "cell_type": "markdown",
      "metadata": {
        "id": "65Px1mF8eDli"
      },
      "source": [
        "You, like me, might now be tempted to believe the data looks something like this."
      ]
    },
    {
      "cell_type": "code",
      "metadata": {
        "colab": {
          "base_uri": "https://localhost:8080/",
          "height": 278
        },
        "id": "HhG-fmUJeDli",
        "outputId": "6523ae5f-3f19-4f60-80fc-fe5c2698ec08"
      },
      "source": [
        "fig, ax = plt.subplots()\n",
        "bin_vals, _, _ = ax.hist([np.random.normal(3.7e4, 5e3, int(10e4))], 100)\n",
        "ax.axvline(3.7e4, label='mean', color='orange')\n",
        "ax.set_xlabel('Income')\n",
        "ax.set_ylabel('Number of people')\n",
        "ax.legend();"
      ],
      "execution_count": 18,
      "outputs": [
        {
          "output_type": "display_data",
          "data": {
            "image/png": "[encoded data removed]",
            "text/plain": [
              "<Figure size 432x288 with 1 Axes>"
            ]
          },
          "metadata": {
            "tags": [],
            "needs_background": "light"
          }
        }
      ]
    },
    {
      "cell_type": "markdown",
      "metadata": {
        "id": "ixjjjeebeDli"
      },
      "source": [
        "## **2. Explain how we should read this plot in your own words. Discuss specifically why the edge of the plot is not smooth. Hint: it's called a histogram.**\n",
        "\n",
        "*TODO: An histogram shows the actual number of records for a certain value\n",
        "\n",
        "**3. Why did we choose to draw the mean as a line, and not as a dot?**\n",
        "\n",
        "*TODO: A line is more clear in this situation, you can see easily which/how many people has an income lower/higher than the average of 37,483\n",
        "\n",
        "**4. How realistic is it that this plot reflects the true situation, given the type of data we are looking at?**\n",
        "\n",
        "*TODO: It is not realistic, the picture above presents (more or less) the same number of people with lower/higher income totally shadowed.These figures must be manupilated. "
      ]
    },
    {
      "cell_type": "markdown",
      "metadata": {
        "id": "l2AY7eWIeDlj"
      },
      "source": [
        "Let's take a look at the *real* histogram now."
      ]
    },
    {
      "cell_type": "code",
      "metadata": {
        "colab": {
          "base_uri": "https://localhost:8080/",
          "height": 294
        },
        "id": "Gbf8og6yeDlj",
        "outputId": "42954133-a3bb-4a28-de59-16629f192c48"
      },
      "source": [
        "fig, ax = plt.subplots()\n",
        "ax.set_title('Histogram')\n",
        "ax.hist(income_samples, bins=50)\n",
        "ax.axvline(income_samples_mean, color='orange', label='mean')\n",
        "ax.set_xlabel('Income')\n",
        "ax.set_ylabel('Number of people')\n",
        "ax.set_xlim([0, 1e5])\n",
        "ax.legend();"
      ],
      "execution_count": 28,
      "outputs": [
        {
          "output_type": "display_data",
          "data": {
            "image/png": "[encoded data removed]",
            "text/plain": [
              "<Figure size 432x288 with 1 Axes>"
            ]
          },
          "metadata": {
            "tags": [],
            "needs_background": "light"
          }
        }
      ]
    },
    {
      "cell_type": "markdown",
      "metadata": {
        "id": "7oi9EQ9meDlj"
      },
      "source": [
        "**5. Why is the mean not located at a peak in the histogram?**\n",
        "\n",
        "*TODO: The mean is the average of all the people. You can see in this histogram, that most of them are earning less that the average. The people with an income of 85.000 - 95.000 will upgrade the average.\n",
        "\n",
        "**6. How can the two plots look so different, even though their mean is the same?**\n",
        "\n",
        "*TODO: the first plot (histogram) is manupilated and therefor not useful.The second one is much better, you can see that most of the people have an income below average, then a group with income 44.000 - 66.000 and a small group with a much higher income.\n",
        "\n",
        "**7. How much useful information does the mean give about the data here, in your opinion? Explain why.**\n",
        "\n",
        "*TODO: the mean shows that most of the people do have a income below average.So it is useful and a clear line. It would become more useful, to show the total number of people with an income below / above average (as a numner)\n"
      ]
    },
    {
      "cell_type": "markdown",
      "metadata": {
        "id": "m8CpHjZMeDlk"
      },
      "source": [
        "## Median\n"
      ]
    },
    {
      "cell_type": "markdown",
      "metadata": {
        "id": "SRtVh-RueDlk"
      },
      "source": [
        "An alternative measure that may be more useful is the **median**. The median is the middle value in a sorted list of all the data. Here's how to find the median:\n",
        "\n",
        "1. Sort the data.\n",
        "2. Find the middle number. If there are an even number of datapoints, take the mean of the middle two."
      ]
    },
    {
      "cell_type": "code",
      "metadata": {
        "colab": {
          "base_uri": "https://localhost:8080/"
        },
        "id": "qpIONx5JeDlk",
        "outputId": "2496bae5-07fe-4dd6-9e94-c705cd50a772"
      },
      "source": [
        "income_samples_median = np.median(income_samples)\n",
        "print(f'The median income in Fooville is {income_samples_median:.2f}')"
      ],
      "execution_count": 20,
      "outputs": [
        {
          "output_type": "stream",
          "text": [
            "The median income in Fooville is 27823.64\n"
          ],
          "name": "stdout"
        }
      ]
    },
    {
      "cell_type": "markdown",
      "metadata": {
        "id": "Zqo8WVDBeDll"
      },
      "source": [
        "Let's visualize where it is exactly on our histogram."
      ]
    },
    {
      "cell_type": "code",
      "metadata": {
        "colab": {
          "base_uri": "https://localhost:8080/",
          "height": 294
        },
        "id": "_xH7_rf_eDll",
        "outputId": "4825bfa9-0465-4d58-b31c-f82a1fc7856a"
      },
      "source": [
        "fig, ax = plt.subplots()\n",
        "ax.set_title('Histogram')\n",
        "ax.hist(income_samples, bins=50)\n",
        "ax.axvline(income_samples_mean, color='orange', label='mean')\n",
        "ax.axvline(income_samples_median, color='green', label='median')\n",
        "ax.set_xlabel('Income')\n",
        "ax.set_ylabel('Number of people')\n",
        "ax.set_xlim([0, 1e5])\n",
        "ax.legend();"
      ],
      "execution_count": 21,
      "outputs": [
        {
          "output_type": "display_data",
          "data": {
            "image/png": "[encoded data removed]",
            "text/plain": [
              "<Figure size 432x288 with 1 Axes>"
            ]
          },
          "metadata": {
            "tags": [],
            "needs_background": "light"
          }
        }
      ]
    },
    {
      "cell_type": "markdown",
      "metadata": {
        "id": "3qQfdU1EeDlm"
      },
      "source": [
        "**8. Is the median more informative about this dataset, in your opinion? Why? Consider the type of data that you're looking at.**\n",
        "\n",
        "*TODO: When you use the 'median' it gives you a more realistic view. The exceptional highest and lowest numbers will be excluded. The most important is always, be sure what you report and describe it for the audience to prevent misunderstanding or wrong conclusions\n",
        "\n",
        "**9. How many people in Fooville have an income below the median? How many have an income above the median?**\n",
        "\n",
        "*TODO:  I can't read the details exactly from the histogram (I can see the details in the file itself) it's around 48.000 less then median, 52.00 higer than median\n",
        "\n",
        "**10. Which way does the median move if we mirror the data like we did in the bottom plot below? Which way does the mean move? Finally: which one moves more? Explain your answers.** \n",
        "\n",
        "*TODO: The median should move to the right, as most of the people do have an higher income"
      ]
    },
    {
      "cell_type": "code",
      "metadata": {
        "colab": {
          "base_uri": "https://localhost:8080/",
          "height": 566
        },
        "id": "on3uCW_jeDlm",
        "outputId": "b7de44b0-65d2-49e6-b903-58e26539717c"
      },
      "source": [
        "mirrored_income_samples = 0 - income_samples + 1e5\n",
        "\n",
        "fig, axs = plt.subplots(2, 1, figsize=(16,9))\n",
        "axs[0].set_title('Real histogram', loc='left')\n",
        "axs[0].hist(income_samples, bins=50)\n",
        "axs[0].axvline(income_samples_mean, color='orange', label='mean')\n",
        "axs[0].axvline(income_samples_median, color='green', label='median')\n",
        "axs[0].set_xlabel('Income')\n",
        "axs[0].set_ylabel('Number of people')\n",
        "axs[0].set_xlim([0, 1e5])\n",
        "axs[0].legend();\n",
        "axs[1].set_title('Mirrored histogram', loc='left')\n",
        "axs[1].hist(mirrored_income_samples, bins=50)\n",
        "axs[1].set_xlabel('Income')\n",
        "axs[1].set_ylabel('Number of people')\n",
        "axs[1].set_xlim([0, 1e5]);"
      ],
      "execution_count": 22,
      "outputs": [
        {
          "output_type": "display_data",
          "data": {
            "image/png": "[encoded data removed]",
            "text/plain": [
              "<Figure size 1152x648 with 2 Axes>"
            ]
          },
          "metadata": {
            "tags": [],
            "needs_background": "light"
          }
        }
      ]
    },
    {
      "cell_type": "markdown",
      "metadata": {
        "id": "Ux-_Feh6eDln"
      },
      "source": [
        "## Mode and binning\n",
        "\n",
        "A third number that gives some information about data is distributed is the **mode**. This is the value that occurs most frequently out of all the values.\n",
        "\n",
        "Let's count how often each number occurs in our (non-mirrored) dataset and see which one occurs most often."
      ]
    },
    {
      "cell_type": "code",
      "metadata": {
        "colab": {
          "base_uri": "https://localhost:8080/",
          "height": 329
        },
        "id": "w6IHU6KZeDln",
        "outputId": "db109114-b089-448d-dacc-1713ff39a4ce"
      },
      "source": [
        "unique, frequency = np.unique(income_samples, return_counts = True)\n",
        "income_samples_mode_freq = np.max(frequency)\n",
        "income_samples_mode = unique[np.argmax(frequency)]\n",
        "print(f'The mode of the income data from Fooville is {income_samples_mode:.2f}.\\n'\n",
        "      f'It occurs {income_samples_mode_freq} times.')\n",
        "\n",
        "fig, ax = plt.subplots()\n",
        "ax.set_title('Histogram')\n",
        "ax.hist(income_samples, bins=50)\n",
        "ax.axvline(income_samples_mean, color='orange', label='mean')\n",
        "ax.axvline(income_samples_median, color='green', label='median')\n",
        "ax.axvline(income_samples_mode, color='purple', label='mode?')\n",
        "ax.set_xlabel('Income')\n",
        "ax.set_ylabel('Number of people')\n",
        "ax.set_xlim([0, 1e5])\n",
        "ax.legend();"
      ],
      "execution_count": 23,
      "outputs": [
        {
          "output_type": "stream",
          "text": [
            "The mode of the income data from Fooville is 19302.31.\n",
            "It occurs 3 times.\n"
          ],
          "name": "stdout"
        },
        {
          "output_type": "display_data",
          "data": {
            "image/png": "[encoded data removed]",
            "text/plain": [
              "<Figure size 432x288 with 1 Axes>"
            ]
          },
          "metadata": {
            "tags": [],
            "needs_background": "light"
          }
        }
      ]
    },
    {
      "cell_type": "markdown",
      "metadata": {
        "id": "F3I_wV3AeDlo"
      },
      "source": [
        "Hm! This does not match with what we learn from our histogram.\n",
        "\n",
        "**11. What level of income would you have expected to be the mode?**\n",
        "\n",
        "*TODO: around 27.000\n",
        "\n",
        "**12. What is the problem that caused us to land on a strange value for the mode?**\n",
        "\n",
        "*TODO: the mode is a peak, not the average, it's below the average\n",
        "\n",
        "The problem that we have can be solved by *binning* the numbers in our data. Here's how that works:\n",
        "\n",
        "1. Choose a number of *bins*. Think of these like buckets.\n",
        "2. Divide the area between the minimum and maximum values of the data into smaller areas according to the number of bins.\n",
        "3. Look at each datapoint and put it in the bin that it belongs to.\n",
        "4. Count how many datapoints are in each bin.\n",
        "5. Let each bin be represented by the middle value of the bin.\n",
        "\n",
        "Let's do this and find the mode again."
      ]
    },
    {
      "cell_type": "code",
      "metadata": {
        "colab": {
          "base_uri": "https://localhost:8080/",
          "height": 329
        },
        "id": "Zma9CoNreDlo",
        "outputId": "b75b493f-b5c2-42c2-d367-12ff3ff4663f"
      },
      "source": [
        "# PLAY AROUND WITH THIS VALUE\n",
        "bins = 50\n",
        "# DON'T MODIFY THE LINES BELOW\n",
        "\n",
        "hist, bin_edges = np.histogram(income_samples, bins=bins)\n",
        "income_samples_mode_freq = np.max(hist)\n",
        "mode_bin_index = np.argmax(hist)\n",
        "income_samples_mode = np.mean(bin_edges[mode_bin_index:mode_bin_index+2])\n",
        "print(f'The mode of the income data from Fooville is {income_samples_mode:.2f}.\\n'\n",
        "      f'It occurs {income_samples_mode_freq} times.')\n",
        "fig, ax = plt.subplots()\n",
        "ax.set_title('Histogram')\n",
        "ax.hist(income_samples, bins=bins)\n",
        "ax.axvline(income_samples_mean, color='orange', label='mean')\n",
        "ax.axvline(income_samples_median, color='green', label='median')\n",
        "ax.axvline(income_samples_mode, color='purple', label='mode')\n",
        "ax.set_xlabel('Income')\n",
        "ax.set_ylabel('Number of people')\n",
        "ax.set_xlim([0, 1e5])\n",
        "ax.legend();"
      ],
      "execution_count": 24,
      "outputs": [
        {
          "output_type": "stream",
          "text": [
            "The mode of the income data from Fooville is 24810.91.\n",
            "It occurs 10370 times.\n"
          ],
          "name": "stdout"
        },
        {
          "output_type": "display_data",
          "data": {
            "image/png": "[encoded data removed]",
            "text/plain": [
              "<Figure size 432x288 with 1 Axes>"
            ]
          },
          "metadata": {
            "tags": [],
            "needs_background": "light"
          }
        }
      ]
    },
    {
      "cell_type": "markdown",
      "metadata": {
        "id": "S9aCICjPeDlp"
      },
      "source": [
        "**13. How did binning solve the problem you described in your answer to question 12?**\n",
        "\n",
        "*TODO: it is now based on the average of a more realistic part of the data\n",
        "\n",
        "**14. Would a bin count of 3 suffice? What about 100? What is the consideration in choosing a higher or lower bin count? And what is the downside of going too far in either direction?**\n",
        "\n",
        "*TODO: The best is to use bins which are reflecting a useful part of the data, bins who are to small are not representive and are messy in a graph*"
      ]
    },
    {
      "cell_type": "markdown",
      "metadata": {
        "id": "vzNCsunZeDlq"
      },
      "source": [
        "## Quartiles and Boxplots\n",
        "\n",
        "Finally, we will describe our data with a few extra measures:\n",
        "\n",
        "- The min; the lowest value in the dataset.\n",
        "- The max; the highest value in the dataset.\n",
        "- The first quartile; the median of the lower half of the dataset. You find this value by sorting the data and selecting the middle of the lower half.\n",
        "- The third quartile; the median of the upper half of the dataset. You find this value by sorting the data and selecting the middle of the upper half.\n",
        "\n",
        "Together with the median, this is called the *five-number summary*. It is common to visualize these numbers in a type of plot that's called a *boxplot*. Here it is for the Fooville data."
      ]
    },
    {
      "cell_type": "code",
      "metadata": {
        "colab": {
          "base_uri": "https://localhost:8080/",
          "height": 322
        },
        "id": "38-1Io6meDlq",
        "outputId": "35e11e73-8aec-4734-ea0b-70dcdef28825"
      },
      "source": [
        "fig, ax = plt.subplots()\n",
        "ax.boxplot(income_samples, whis=(0,100))\n",
        "sorted_income_samples = np.sort(income_samples)\n",
        "minimum = np.min(income_samples)\n",
        "maximum = np.max(income_samples)\n",
        "first_quartile = sorted_income_samples[int(sorted_income_samples.shape[0] / 4)]\n",
        "third_quartile = sorted_income_samples[int(3 * sorted_income_samples.shape[0] / 4)]\n",
        "ax.annotate('min', (1, minimum), fontsize='x-large', xytext=(35, 0), textcoords='offset points', arrowprops={'arrowstyle':'fancy'})\n",
        "ax.annotate('max', (1, maximum), fontsize='x-large', xytext=(35, -10), textcoords='offset points', arrowprops={'arrowstyle':'fancy'})\n",
        "ax.annotate('median', (1, income_samples_median), fontsize='x-large', xytext=(35, 0), textcoords='offset points', arrowprops={'arrowstyle':'fancy'})\n",
        "ax.annotate('first quartile', (1, first_quartile), fontsize='x-large', xytext=(35, -10), textcoords='offset points', arrowprops={'arrowstyle':'fancy'})\n",
        "ax.annotate('third quartile', (1, third_quartile), fontsize='x-large', xytext=(35, 0), textcoords='offset points', arrowprops={'arrowstyle':'fancy'})\n",
        "ax.set_ylabel('Income')\n",
        "ax.set_xticks([])\n",
        "\n",
        "print(f'The minimum is at {minimum}')\n",
        "print(f'The first quartile is at {first_quartile}')\n",
        "print(f'The third quartile is at {third_quartile}')\n",
        "print(f'The maximum is at {maximum}')"
      ],
      "execution_count": 25,
      "outputs": [
        {
          "output_type": "stream",
          "text": [
            "The minimum is at 3387.65\n",
            "The first quartile is at 23180.05\n",
            "The third quartile is at 52255.28\n",
            "The maximum is at 96532.26\n"
          ],
          "name": "stdout"
        },
        {
          "output_type": "display_data",
          "data": {
            "image/png": "[encoded data removed]",
            "text/plain": [
              "<Figure size 432x288 with 1 Axes>"
            ]
          },
          "metadata": {
            "tags": [],
            "needs_background": "light"
          }
        }
      ]
    },
    {
      "cell_type": "markdown",
      "metadata": {
        "id": "ovUVDlsLeDlq"
      },
      "source": [
        "Here is the boxplot again without our annotations."
      ]
    },
    {
      "cell_type": "code",
      "metadata": {
        "colab": {
          "base_uri": "https://localhost:8080/",
          "height": 253
        },
        "id": "2V37fw53eDlr",
        "outputId": "7cb8213b-a7fa-4c15-97d5-f2c71d6d473d"
      },
      "source": [
        "fig, ax = plt.subplots()\n",
        "ax.boxplot(income_samples, whis=(0,100))\n",
        "ax.set_ylabel('Income')\n",
        "ax.set_xticks([]);"
      ],
      "execution_count": 26,
      "outputs": [
        {
          "output_type": "display_data",
          "data": {
            "image/png": "[encoded data removed]",
            "text/plain": [
              "<Figure size 432x288 with 1 Axes>"
            ]
          },
          "metadata": {
            "tags": [],
            "needs_background": "light"
          }
        }
      ]
    },
    {
      "cell_type": "markdown",
      "metadata": {
        "id": "LspYL2jAeDlr"
      },
      "source": [
        "**15. How many inhabitants of Fooville have an income above the first quartile?**\n",
        "\n",
        "*TODO: as the lines are not shown in the graphs, I can't be accurate so it's around 22.000\n",
        "\n",
        "**16. How many inhabitants of Fooville have an income between the first and third quartile?**\n",
        "\n",
        "*TODO: 30.000\n",
        "\n",
        "**17. Which of the following statements are correct? (type an `x` in those boxes)**\n",
        "\n",
        "*TODO: Fill in the right boxes.*\n",
        "\n",
        "   - [ ] \"25% of all Fooville inhabitants have an income above 20.000\"\n",
        "   - [ ] \"50% of all Fooville inhabitants have an income between around 23.000 and around 52.000\"\n",
        "   - [x ] \"There are no Fooville inhabitants with an income above 98.000.\"\n",
        "\n",
        "**18. Does the mean always fall between the first and third quartile? Explain your answer.**\n",
        "\n",
        "*TODO: you should expect this, however the number of records is not the same as the value of certain field in the records (in this case the income), so in theory the mean (based on value) could be in all of the quartiles\n",
        "\n",
        "**19. Do you think a boxplot is a nice summary of the Fooville income data? Why? How does it compare to the histogram?**\n",
        "\n",
        "*TODO: in the Boxplot, you can see the total of the inhabitants in one view, this could be more handy than the other histograms. However the histograms are more detailed."
      ]
    },
    {
      "cell_type": "markdown",
      "metadata": {
        "id": "uLt17-h_eDlr"
      },
      "source": [
        "That's it for this lesson! You now have an intuitive understanding of:\n",
        "\n",
        "- The mean\n",
        "- The median\n",
        "- The mode\n",
        "- Binning\n",
        "- Histograms\n",
        "- The minimum and maximum\n",
        "- The first and third quartile\n",
        "- Boxplots\n",
        "\n",
        "Congratulations! That's a lot of material to work through."
      ]
    }
  ]
}